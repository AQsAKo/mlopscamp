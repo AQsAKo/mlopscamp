{
 "cells": [
  {
   "cell_type": "code",
   "execution_count": 1,
   "id": "1882948d",
   "metadata": {},
   "outputs": [],
   "source": [
    "import pandas as pd"
   ]
  },
  {
   "cell_type": "code",
   "execution_count": 2,
   "id": "b696ca8c",
   "metadata": {},
   "outputs": [],
   "source": [
    "import seaborn as sns"
   ]
  },
  {
   "cell_type": "code",
   "execution_count": 3,
   "id": "fd954859",
   "metadata": {},
   "outputs": [],
   "source": [
    "import matplotlib.pyplot as plt"
   ]
  },
  {
   "cell_type": "code",
   "execution_count": 4,
   "id": "1cc94859",
   "metadata": {},
   "outputs": [],
   "source": [
    "from sklearn.feature_extraction import DictVectorizer\n",
    "from sklearn.linear_model import LinearRegression\n",
    "from sklearn.linear_model import Lasso\n",
    "from sklearn.linear_model import Ridge\n",
    "\n",
    "from sklearn.metrics import mean_squared_error"
   ]
  },
  {
   "cell_type": "code",
   "execution_count": 5,
   "id": "66076a7e",
   "metadata": {},
   "outputs": [],
   "source": [
    "\n",
    "\n",
    "def read_dataframe(filename):\n",
    "    if filename.endswith('.csv'):\n",
    "        df = pd.read_csv(filename)\n",
    "\n",
    "        df.tpep_dropoff_datetime = pd.to_datetime(df.tpep_dropoff_datetime)\n",
    "        df.tpep_pickup_datetime = pd.to_datetime(df.tpep_pickup_datetime)\n",
    "    elif filename.endswith('.parquet'):\n",
    "        df = pd.read_parquet(filename)\n",
    "        \n",
    "    print(f'Column number {df.shape[1]}')\n",
    "\n",
    "    df['duration'] = df.tpep_dropoff_datetime - df.tpep_pickup_datetime\n",
    "    df.duration = df.duration.apply(lambda td: td.total_seconds() / 60)\n",
    "    \n",
    "    raw_count = len(df)\n",
    "    \n",
    "    print(df.std())\n",
    "\n",
    "    df = df[(df.duration >= 1) & (df.duration <= 60)]\n",
    "    \n",
    "    filter_count = len(df)\n",
    "    \n",
    "    print(f'fraction or records with duration between 1 and 60 :{filter_count/raw_count}')\n",
    "\n",
    "    categorical = ['PULocationID', 'DOLocationID']\n",
    "    df[categorical] = df[categorical].astype(str)\n",
    "    \n",
    "    return df\n",
    "\n"
   ]
  },
  {
   "cell_type": "code",
   "execution_count": 6,
   "id": "828774ce",
   "metadata": {},
   "outputs": [],
   "source": [
    "filename = '../yellow_tripdata_2022-01.parquet'"
   ]
  },
  {
   "cell_type": "code",
   "execution_count": 7,
   "id": "79f7c5c2",
   "metadata": {},
   "outputs": [
    {
     "name": "stdout",
     "output_type": "stream",
     "text": [
      "Column number 19\n"
     ]
    },
    {
     "name": "stderr",
     "output_type": "stream",
     "text": [
      "/tmp/ipykernel_163/3839496861.py:17: FutureWarning: The default value of numeric_only in DataFrame.std is deprecated. In a future version, it will default to False. In addition, specifying 'numeric_only=None' is deprecated. Select only valid columns or specify the value of numeric_only to silence this warning.\n",
      "  print(df.std())\n"
     ]
    },
    {
     "name": "stdout",
     "output_type": "stream",
     "text": [
      "VendorID                                   0.502137\n",
      "tpep_pickup_datetime     14 days 07:12:05.644016136\n",
      "tpep_dropoff_datetime    14 days 07:11:17.325123812\n",
      "passenger_count                            0.982969\n",
      "trip_distance                            547.871404\n",
      "RatecodeID                                 5.917573\n",
      "PULocationID                              65.468057\n",
      "DOLocationID                              70.790159\n",
      "payment_type                               0.500178\n",
      "fare_amount                              255.814887\n",
      "extra                                      1.236226\n",
      "mta_tax                                    0.082916\n",
      "tip_amount                                 2.830698\n",
      "tolls_amount                               1.680538\n",
      "improvement_surcharge                      0.043747\n",
      "total_amount                             255.964089\n",
      "congestion_surcharge                       0.743204\n",
      "airport_fee                                0.312555\n",
      "duration                                  46.445305\n",
      "dtype: object\n",
      "fraction or records with duration between 1 and 60 :0.9827547930522406\n"
     ]
    }
   ],
   "source": [
    "df_train = read_dataframe(filename)"
   ]
  },
  {
   "cell_type": "code",
   "execution_count": 8,
   "id": "3664055b",
   "metadata": {},
   "outputs": [
    {
     "name": "stdout",
     "output_type": "stream",
     "text": [
      "Column number 19\n"
     ]
    },
    {
     "name": "stderr",
     "output_type": "stream",
     "text": [
      "/tmp/ipykernel_163/3839496861.py:17: FutureWarning: The default value of numeric_only in DataFrame.std is deprecated. In a future version, it will default to False. In addition, specifying 'numeric_only=None' is deprecated. Select only valid columns or specify the value of numeric_only to silence this warning.\n",
      "  print(df.std())\n"
     ]
    },
    {
     "name": "stdout",
     "output_type": "stream",
     "text": [
      "VendorID                                   0.501401\n",
      "tpep_pickup_datetime     12 days 03:31:10.275087219\n",
      "tpep_dropoff_datetime    12 days 03:30:07.149904354\n",
      "passenger_count                            0.984123\n",
      "trip_distance                            642.530368\n",
      "RatecodeID                                 6.017545\n",
      "PULocationID                              65.609659\n",
      "DOLocationID                              70.420229\n",
      "payment_type                               0.495248\n",
      "fare_amount                               12.046193\n",
      "extra                                      1.234659\n",
      "mta_tax                                    0.081491\n",
      "tip_amount                                 2.788297\n",
      "tolls_amount                               1.671188\n",
      "improvement_surcharge                       0.04363\n",
      "total_amount                              14.945992\n",
      "congestion_surcharge                       0.709771\n",
      "airport_fee                                 0.29637\n",
      "duration                                  47.263941\n",
      "dtype: object\n",
      "fraction or records with duration between 1 and 60 :0.979444397269143\n"
     ]
    }
   ],
   "source": [
    "df_val = read_dataframe('../yellow_tripdata_2022-02.parquet')"
   ]
  },
  {
   "cell_type": "code",
   "execution_count": 9,
   "id": "45d5e33a",
   "metadata": {},
   "outputs": [
    {
     "data": {
      "text/plain": [
       "(2421440, 2918187)"
      ]
     },
     "execution_count": 9,
     "metadata": {},
     "output_type": "execute_result"
    }
   ],
   "source": [
    "len(df_train), len(df_val)"
   ]
  },
  {
   "cell_type": "code",
   "execution_count": 10,
   "id": "89b9a4ba",
   "metadata": {},
   "outputs": [],
   "source": [
    "df_train['PU_DO'] = df_train['PULocationID'] + '_' + df_train['DOLocationID']\n",
    "df_val['PU_DO'] = df_val['PULocationID'] + '_' + df_val['DOLocationID']"
   ]
  },
  {
   "cell_type": "code",
   "execution_count": 33,
   "id": "c47a57ce",
   "metadata": {},
   "outputs": [
    {
     "name": "stdout",
     "output_type": "stream",
     "text": [
      "515\n"
     ]
    }
   ],
   "source": [
    "categorical = ['PULocationID', 'DOLocationID'] #'PULocationID', 'DOLocationID']\n",
    "numerical = ['duration']\n",
    "\n",
    "dv = DictVectorizer()\n",
    "\n",
    "train_dicts = df_train[categorical].to_dict(orient='records')\n",
    "X_train = dv.fit_transform(train_dicts)\n",
    "\n",
    "print(len(dv.feature_names_))\n",
    "\n",
    "val_dicts = df_val[categorical].to_dict(orient='records')\n",
    "X_val = dv.transform(val_dicts)"
   ]
  },
  {
   "cell_type": "code",
   "execution_count": 36,
   "id": "560af404",
   "metadata": {},
   "outputs": [],
   "source": [
    "target = 'duration'\n",
    "y_train = df_train[target].values\n",
    "y_val = df_val[target].values"
   ]
  },
  {
   "cell_type": "code",
   "execution_count": 37,
   "id": "04b7aaa9",
   "metadata": {},
   "outputs": [
    {
     "data": {
      "text/plain": [
       "6.986190837370544"
      ]
     },
     "execution_count": 37,
     "metadata": {},
     "output_type": "execute_result"
    }
   ],
   "source": [
    "lr = LinearRegression()\n",
    "lr.fit(X_train, y_train)\n",
    "\n",
    "y_pred = lr.predict(X_train)\n",
    "\n",
    "mean_squared_error(y_train, y_pred, squared=False)"
   ]
  },
  {
   "cell_type": "code",
   "execution_count": 39,
   "id": "0462f822",
   "metadata": {},
   "outputs": [
    {
     "data": {
      "text/plain": [
       "7.786409085078911"
      ]
     },
     "execution_count": 39,
     "metadata": {},
     "output_type": "execute_result"
    }
   ],
   "source": [
    "y_pred = lr.predict(X_val)\n",
    "\n",
    "mean_squared_error(y_val, y_pred, squared=False)"
   ]
  },
  {
   "cell_type": "code",
   "execution_count": null,
   "id": "e5ed1176",
   "metadata": {},
   "outputs": [],
   "source": []
  }
 ],
 "metadata": {
  "kernelspec": {
   "display_name": "Python 3 (ipykernel)",
   "language": "python",
   "name": "python3"
  },
  "language_info": {
   "codemirror_mode": {
    "name": "ipython",
    "version": 3
   },
   "file_extension": ".py",
   "mimetype": "text/x-python",
   "name": "python",
   "nbconvert_exporter": "python",
   "pygments_lexer": "ipython3",
   "version": "3.10.6"
  }
 },
 "nbformat": 4,
 "nbformat_minor": 5
}
